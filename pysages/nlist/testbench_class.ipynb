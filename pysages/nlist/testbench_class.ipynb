{
 "cells": [
  {
   "cell_type": "code",
   "execution_count": 1,
   "metadata": {},
   "outputs": [],
   "source": [
    "%load_ext autoreload\n",
    "%autoreload 2"
   ]
  },
  {
   "cell_type": "code",
   "execution_count": 2,
   "metadata": {},
   "outputs": [],
   "source": [
    "from nlist import NeighborList\n",
    "from jax import random\n",
    "import jax.numpy as jnp\n",
    "#from jax_md.partition import neighbor_list\n",
    "#from jax_md.space import periodic"
   ]
  },
  {
   "cell_type": "markdown",
   "metadata": {},
   "source": [
    "## Setting up a simple box\n",
    "\n",
    "This will create a $5 \\times 5 \\times 5$ box and puts 100 random particles in it."
   ]
  },
  {
   "cell_type": "code",
   "execution_count": 3,
   "metadata": {},
   "outputs": [],
   "source": [
    "box_edge = 5.0\n",
    "box_size = jnp.array([box_edge, box_edge, box_edge])\n",
    "positions = random.uniform(random.PRNGKey(0), (int(1e2), 3))*box_edge\n",
    "cutoff_c = 1.0 # cutoff for cell list\n",
    "cutoff_v = 1.0 # cutoff for verlet list\n",
    "buffer = 30"
   ]
  },
  {
   "cell_type": "code",
   "execution_count": 7,
   "metadata": {},
   "outputs": [],
   "source": [
    "nlist = NeighborList(positions, box_size, cutoff_c, buffer)"
   ]
  },
  {
   "cell_type": "code",
   "execution_count": 5,
   "metadata": {},
   "outputs": [
    {
     "name": "stdout",
     "output_type": "stream",
     "text": [
      "[70 31 63 93]\n"
     ]
    }
   ],
   "source": [
    "nl_single_particle = nlist.get_neighbors_single_particle(0)\n",
    "print(nl_single_particle)"
   ]
  },
  {
   "cell_type": "code",
   "execution_count": 34,
   "metadata": {},
   "outputs": [
    {
     "name": "stdout",
     "output_type": "stream",
     "text": [
      "[Array([93, 70, 63, 31], dtype=int32), Array([88, 82, 66, 58, 10,  4], dtype=int32), Array([76], dtype=int32)]\n"
     ]
    }
   ],
   "source": [
    "nl_list_of_particles = nlist.get_neighbors_particle_list(jnp.asarray([0, 1, 2]), mask_self=True)\n",
    "print(nl_list_of_particles)"
   ]
  },
  {
   "cell_type": "code",
   "execution_count": null,
   "metadata": {},
   "outputs": [],
   "source": []
  }
 ],
 "metadata": {
  "kernelspec": {
   "display_name": "Python 3 (ipykernel)",
   "language": "python",
   "name": "python3"
  },
  "language_info": {
   "codemirror_mode": {
    "name": "ipython",
    "version": 3
   },
   "file_extension": ".py",
   "mimetype": "text/x-python",
   "name": "python",
   "nbconvert_exporter": "python",
   "pygments_lexer": "ipython3",
   "version": "3.9.19"
  }
 },
 "nbformat": 4,
 "nbformat_minor": 2
}
